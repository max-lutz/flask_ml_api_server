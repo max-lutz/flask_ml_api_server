{
 "cells": [
  {
   "cell_type": "code",
   "execution_count": 13,
   "id": "c00cf8cd",
   "metadata": {},
   "outputs": [],
   "source": [
    "import requests\n",
    "import pandas as pd"
   ]
  },
  {
   "cell_type": "markdown",
   "id": "5b6b5bf4",
   "metadata": {},
   "source": [
    "## Test of API on repl with get"
   ]
  },
  {
   "cell_type": "code",
   "execution_count": 10,
   "id": "3b476438",
   "metadata": {},
   "outputs": [
    {
     "data": {
      "text/plain": [
       "'pong'"
      ]
     },
     "execution_count": 10,
     "metadata": {},
     "output_type": "execute_result"
    }
   ],
   "source": [
    "api_url = 'https://titanic-prediction-server.maxlutz.repl.co'\n",
    "answer = requests.get(api_url + '/ping')\n",
    "answer.text"
   ]
  },
  {
   "cell_type": "markdown",
   "id": "d5b308bc",
   "metadata": {},
   "source": [
    "## Test of API on repl with post"
   ]
  },
  {
   "cell_type": "code",
   "execution_count": 36,
   "id": "c25df24b",
   "metadata": {},
   "outputs": [],
   "source": [
    "test_url = \"https://bit.ly/titanic-test-set\"\n",
    "df = pd.read_csv(test_url)\n",
    "payload = df.iloc[[200]].to_json()"
   ]
  },
  {
   "cell_type": "code",
   "execution_count": 37,
   "id": "584ccbdb",
   "metadata": {},
   "outputs": [
    {
     "data": {
      "text/plain": [
       "'{\"PassengerId\":{\"200\":1092},\"Pclass\":{\"200\":3},\"Name\":{\"200\":\"Murphy, Miss. Nora\"},\"Sex\":{\"200\":\"female\"},\"Age\":{\"200\":null},\"SibSp\":{\"200\":0},\"Parch\":{\"200\":0},\"Ticket\":{\"200\":\"36568\"},\"Fare\":{\"200\":15.5},\"Cabin\":{\"200\":null},\"Embarked\":{\"200\":\"Q\"}}'"
      ]
     },
     "execution_count": 37,
     "metadata": {},
     "output_type": "execute_result"
    }
   ],
   "source": [
    "payload"
   ]
  },
  {
   "cell_type": "code",
   "execution_count": 38,
   "id": "1018e964",
   "metadata": {},
   "outputs": [],
   "source": [
    "answer = requests.post(api_url + '/predict', data = payload,\n",
    "              headers={'Content-Type':'application/json'})"
   ]
  },
  {
   "cell_type": "code",
   "execution_count": 39,
   "id": "dbcdaec4",
   "metadata": {},
   "outputs": [
    {
     "data": {
      "text/plain": [
       "'1'"
      ]
     },
     "execution_count": 39,
     "metadata": {},
     "output_type": "execute_result"
    }
   ],
   "source": [
    "answer.text"
   ]
  },
  {
   "cell_type": "markdown",
   "id": "a066d990",
   "metadata": {},
   "source": [
    "## Test of API on heroku with post"
   ]
  },
  {
   "cell_type": "code",
   "execution_count": null,
   "id": "195b00ec",
   "metadata": {},
   "outputs": [],
   "source": [
    "test_url = \"https://bit.ly/titanic-test-set\"\n",
    "df = pd.read_csv(test_url)\n",
    "payload = df.iloc[[0]].to_json()\n",
    "answer = requests.post(api_url + '/predict', data = payload,\n",
    "              headers={'Content-Type':'application/json'})\n",
    "answer.text"
   ]
  }
 ],
 "metadata": {
  "kernelspec": {
   "display_name": "Python 3",
   "language": "python",
   "name": "python3"
  },
  "language_info": {
   "codemirror_mode": {
    "name": "ipython",
    "version": 3
   },
   "file_extension": ".py",
   "mimetype": "text/x-python",
   "name": "python",
   "nbconvert_exporter": "python",
   "pygments_lexer": "ipython3",
   "version": "3.8.10"
  }
 },
 "nbformat": 4,
 "nbformat_minor": 5
}
